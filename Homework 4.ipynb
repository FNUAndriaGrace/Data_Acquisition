{
 "cells": [
  {
   "cell_type": "code",
   "execution_count": 1,
   "metadata": {
    "colab": {
     "base_uri": "https://localhost:8080/"
    },
    "id": "SwUqrBnH3bZ5",
    "outputId": "12a9afcc-3742-45db-ca48-382d919d1c7e"
   },
   "outputs": [
    {
     "name": "stdout",
     "output_type": "stream",
     "text": [
      "good dataframe\n",
      "                          name       genus   vore         order  conservation  \\\n",
      "3   Greater short-tailed shrew     Blarina   omni  Soricomorpha            lc   \n",
      "4                          Cow         Bos  herbi  Artiodactyla  domesticated   \n",
      "8                          Dog       Canis  carni     Carnivora  domesticated   \n",
      "11                  Guinea pig       Cavis  herbi      Rodentia  domesticated   \n",
      "13                  Chinchilla  Chinchilla  herbi      Rodentia  domesticated   \n",
      "\n",
      "    sleep_total  sleep_rem  sleep_cycle  awake  brainwt   bodywt  \n",
      "3          14.9        2.3     0.133333    9.1  0.00029    0.019  \n",
      "4           4.0        0.7     0.666667   20.0  0.42300  600.000  \n",
      "8          10.1        2.9     0.333333   13.9  0.07000   14.000  \n",
      "11          9.4        0.8     0.216667   14.6  0.00550    0.728  \n",
      "13         12.5        1.5     0.116667   11.5  0.00640    0.420  \n",
      "\n",
      "bad dataframe\n",
      "                 name        genus   vore           order  conservation  \\\n",
      "6   Northern fur seal  Callorhinus  carni       Carnivora            vu   \n",
      "10               Goat        Capri  herbi    Artiodactyla            lc   \n",
      "14    Star-nosed mole    Condylura   omni    Soricomorpha            lc   \n",
      "18         Tree hyrax  Dendrohyrax  herbi      Hyracoidea            lc   \n",
      "23             Donkey        Equus  herbi  Perissodactyla  domesticated   \n",
      "\n",
      "    sleep_total  sleep_rem  sleep_cycle  awake  brainwt  bodywt  \n",
      "6           8.7        1.4     0.383333   15.3      NaN   20.49  \n",
      "10          5.3        0.6          NaN   18.7   0.1150   33.50  \n",
      "14         10.3        2.2          NaN   13.7   0.0010    0.06  \n",
      "18          5.3        0.5          NaN   18.7   0.0123    2.95  \n",
      "23          3.1        0.4          NaN   20.9   0.4190  187.00  \n",
      "\n",
      "ugly dataframe\n",
      "               name       genus   vore      order conservation  sleep_total  \\\n",
      "0           Cheetah    Acinonyx  carni  Carnivora           lc         12.1   \n",
      "1        Owl monkey       Aotus   omni   Primates          NaN         17.0   \n",
      "2   Mountain beaver  Aplodontia  herbi   Rodentia           nt         14.4   \n",
      "5  Three-toed sloth    Bradypus  herbi     Pilosa          NaN         14.4   \n",
      "7      Vesper mouse     Calomys    NaN   Rodentia          NaN          7.0   \n",
      "\n",
      "   sleep_rem  sleep_cycle  awake  brainwt  bodywt  \n",
      "0        NaN          NaN   11.9      NaN  50.000  \n",
      "1        1.8          NaN    7.0   0.0155   0.480  \n",
      "2        2.4          NaN    9.6      NaN   1.350  \n",
      "5        2.2     0.766667    9.6      NaN   3.850  \n",
      "7        NaN          NaN   17.0      NaN   0.045  \n"
     ]
    }
   ],
   "source": [
    "import numpy as np\n",
    "import pandas as pd\n",
    "\n",
    "#1. Load \"msleep.csv\" data into dataframe.\n",
    "\n",
    "file_path = '/content/msleep.csv'\n",
    "\n",
    "df = pd.read_csv(file_path)\n",
    "\n",
    "#2. Split the dataframe into 3 dataframes - the good (without NaN in each row), the bad (with one NaN in each row), the ugly (with multiple NaNs in each row).\n",
    "\n",
    "good_df = df.dropna(subset = df.columns)\n",
    "bad_df = df[df.isnull().sum(axis = 1) ==1]\n",
    "ugly_df = df[df.isnull().sum(axis = 1) >1]\n",
    "\n",
    "print(\"good dataframe\")\n",
    "print(good_df.head())\n",
    "print(\"\\nbad dataframe\")\n",
    "print(bad_df.head())\n",
    "print(\"\\nugly dataframe\")\n",
    "print(ugly_df.head())\n",
    "\n"
   ]
  },
  {
   "cell_type": "code",
   "execution_count": 2,
   "metadata": {
    "colab": {
     "base_uri": "https://localhost:8080/"
    },
    "id": "YNrg7zleDywR",
    "outputId": "097e461e-5435-4c61-b3f6-0c43b4107552"
   },
   "outputs": [
    {
     "name": "stdout",
     "output_type": "stream",
     "text": [
      "\n",
      " modified bad dataframe \n",
      "                 name         genus     vore           order  conservation  \\\n",
      "6   Northern fur seal   Callorhinus    carni       Carnivora            vu   \n",
      "10               Goat         Capri    herbi    Artiodactyla            lc   \n",
      "14    Star-nosed mole     Condylura     omni    Soricomorpha            lc   \n",
      "18         Tree hyrax   Dendrohyrax    herbi      Hyracoidea            lc   \n",
      "23             Donkey         Equus    herbi  Perissodactyla  domesticated   \n",
      "25       Patas monkey  Erythrocebus     omni        Primates            lc   \n",
      "28             Galago        Galago     omni        Primates            lc   \n",
      "31          Gray seal  Haliochoerus    carni       Carnivora            lc   \n",
      "32         Gray hyrax   Heterohyrax    herbi      Hyracoidea            lc   \n",
      "33              Human          Homo     omni        Primates            lc   \n",
      "37            Macaque        Macaca     omni        Primates            lc   \n",
      "42   Little brown bat        Myotis  insecti      Chiroptera            lc   \n",
      "48              Sheep          Ovis    herbi    Artiodactyla  domesticated   \n",
      "49         Chimpanzee           Pan     omni        Primates            lc   \n",
      "53             Baboon         Papio     omni        Primates            lc   \n",
      "61    Giant armadillo    Priodontes  insecti       Cingulata            en   \n",
      "67         Cotton rat      Sigmodon    herbi        Rodentia            lc   \n",
      "78         Tree shrew        Tupaia     omni      Scandentia            lc   \n",
      "82            Red fox        Vulpes    carni       Carnivora            lc   \n",
      "\n",
      "    sleep_total  sleep_rem  sleep_cycle  awake   brainwt   bodywt  \n",
      "6           8.7        1.4     0.383333   15.3  0.190772   20.490  \n",
      "10          5.3        0.6     0.620000   18.7  0.115000   33.500  \n",
      "14         10.3        2.2     0.620000   13.7  0.001000    0.060  \n",
      "18          5.3        0.5     0.620000   18.7  0.012300    2.950  \n",
      "23          3.1        0.4     0.620000   20.9  0.419000  187.000  \n",
      "25         10.9        1.1     0.620000   13.1  0.115000   10.000  \n",
      "28          9.8        1.1     0.550000   14.2  0.005000    0.200  \n",
      "31          6.2        1.5     0.620000   17.8  0.325000   85.000  \n",
      "32          6.3        0.6     0.620000   17.7  0.012270    2.625  \n",
      "33          8.0        1.9     1.500000   16.0  1.320000   62.000  \n",
      "37         10.1        1.2     0.750000   13.9  0.179000    6.800  \n",
      "42         19.9        2.0     0.200000    4.1  0.000250    0.010  \n",
      "48          3.8        0.6     0.620000   20.2  0.175000   55.500  \n",
      "49          9.7        1.4     1.416667   14.3  0.440000   52.200  \n",
      "53          9.4        1.0     0.666667   14.6  0.180000   25.235  \n",
      "61         18.1        6.1     0.620000    5.9  0.081000   60.000  \n",
      "67         11.3        1.1     0.150000   12.7  0.001180    0.148  \n",
      "78          8.9        2.6     0.233333   15.1  0.002500    0.104  \n",
      "82          9.8        2.4     0.350000   14.2  0.050400    4.230  \n"
     ]
    },
    {
     "name": "stderr",
     "output_type": "stream",
     "text": [
      "<ipython-input-2-0e2a007e745f>:6: SettingWithCopyWarning: \n",
      "A value is trying to be set on a copy of a slice from a DataFrame\n",
      "\n",
      "See the caveats in the documentation: https://pandas.pydata.org/pandas-docs/stable/user_guide/indexing.html#returning-a-view-versus-a-copy\n",
      "  bad_df[column].fillna(mode_value, inplace = True)\n",
      "<ipython-input-2-0e2a007e745f>:6: SettingWithCopyWarning: \n",
      "A value is trying to be set on a copy of a slice from a DataFrame\n",
      "\n",
      "See the caveats in the documentation: https://pandas.pydata.org/pandas-docs/stable/user_guide/indexing.html#returning-a-view-versus-a-copy\n",
      "  bad_df[column].fillna(mode_value, inplace = True)\n",
      "<ipython-input-2-0e2a007e745f>:6: SettingWithCopyWarning: \n",
      "A value is trying to be set on a copy of a slice from a DataFrame\n",
      "\n",
      "See the caveats in the documentation: https://pandas.pydata.org/pandas-docs/stable/user_guide/indexing.html#returning-a-view-versus-a-copy\n",
      "  bad_df[column].fillna(mode_value, inplace = True)\n",
      "<ipython-input-2-0e2a007e745f>:6: SettingWithCopyWarning: \n",
      "A value is trying to be set on a copy of a slice from a DataFrame\n",
      "\n",
      "See the caveats in the documentation: https://pandas.pydata.org/pandas-docs/stable/user_guide/indexing.html#returning-a-view-versus-a-copy\n",
      "  bad_df[column].fillna(mode_value, inplace = True)\n",
      "<ipython-input-2-0e2a007e745f>:6: SettingWithCopyWarning: \n",
      "A value is trying to be set on a copy of a slice from a DataFrame\n",
      "\n",
      "See the caveats in the documentation: https://pandas.pydata.org/pandas-docs/stable/user_guide/indexing.html#returning-a-view-versus-a-copy\n",
      "  bad_df[column].fillna(mode_value, inplace = True)\n",
      "<ipython-input-2-0e2a007e745f>:9: SettingWithCopyWarning: \n",
      "A value is trying to be set on a copy of a slice from a DataFrame\n",
      "\n",
      "See the caveats in the documentation: https://pandas.pydata.org/pandas-docs/stable/user_guide/indexing.html#returning-a-view-versus-a-copy\n",
      "  bad_df[column].fillna(average_value,inplace = True)\n"
     ]
    }
   ],
   "source": [
    "#3. Use the \"bad\" dataframe, fill the NaN with the average value (numeric) or the most frequent value (categorical) in the column.\n",
    "\n",
    "for column in bad_df.columns :\n",
    "    if bad_df[column].dtype == 'object':\n",
    "      mode_value = bad_df[column].mode()[0]\n",
    "      bad_df[column].fillna(mode_value, inplace = True)\n",
    "    else:\n",
    "      average_value = bad_df[column].mean()\n",
    "      bad_df[column].fillna(average_value,inplace = True)\n",
    "\n",
    "print(\"\\n modified bad dataframe \")\n",
    "print(bad_df)\n"
   ]
  },
  {
   "cell_type": "code",
   "execution_count": 3,
   "metadata": {
    "colab": {
     "base_uri": "https://localhost:8080/"
    },
    "id": "oJoz8V60DyzS",
    "outputId": "8c2d76d7-9b97-4908-b675-487b9bf98996"
   },
   "outputs": [
    {
     "name": "stdout",
     "output_type": "stream",
     "text": [
      "Good DataFrame with Dummies:\n",
      "                          name       genus   vore  conservation  sleep_total  \\\n",
      "3   Greater short-tailed shrew     Blarina   omni            lc         14.9   \n",
      "4                          Cow         Bos  herbi  domesticated          4.0   \n",
      "8                          Dog       Canis  carni  domesticated         10.1   \n",
      "11                  Guinea pig       Cavis  herbi  domesticated          9.4   \n",
      "13                  Chinchilla  Chinchilla  herbi  domesticated         12.5   \n",
      "\n",
      "    sleep_rem  sleep_cycle  awake  brainwt   bodywt  order__Artiodactyla  \\\n",
      "3         2.3     0.133333    9.1  0.00029    0.019                    0   \n",
      "4         0.7     0.666667   20.0  0.42300  600.000                    1   \n",
      "8         2.9     0.333333   13.9  0.07000   14.000                    0   \n",
      "11        0.8     0.216667   14.6  0.00550    0.728                    0   \n",
      "13        1.5     0.116667   11.5  0.00640    0.420                    0   \n",
      "\n",
      "    order__Carnivora  order__Chiroptera  order__Cingulata  \\\n",
      "3                  0                  0                 0   \n",
      "4                  0                  0                 0   \n",
      "8                  1                  0                 0   \n",
      "11                 0                  0                 0   \n",
      "13                 0                  0                 0   \n",
      "\n",
      "    order__Didelphimorphia  order__Erinaceomorpha  order__Lagomorpha  \\\n",
      "3                        0                      0                  0   \n",
      "4                        0                      0                  0   \n",
      "8                        0                      0                  0   \n",
      "11                       0                      0                  0   \n",
      "13                       0                      0                  0   \n",
      "\n",
      "    order__Perissodactyla  order__Rodentia  order__Soricomorpha  \n",
      "3                       0                0                    1  \n",
      "4                       0                0                    0  \n",
      "8                       0                0                    0  \n",
      "11                      0                1                    0  \n",
      "13                      0                1                    0  \n"
     ]
    }
   ],
   "source": [
    "#4. Use the \"good\" dataframe, convert column \"order\" into dummies with prefix \"order_\".\n",
    "\n",
    "good_df_with_dummies = pd.get_dummies(good_df, columns=['order'], prefix='order_')\n",
    "\n",
    "print(\"Good DataFrame with Dummies:\")\n",
    "print(good_df_with_dummies.head())\n"
   ]
  },
  {
   "cell_type": "code",
   "execution_count": 4,
   "metadata": {
    "colab": {
     "base_uri": "https://localhost:8080/"
    },
    "id": "DX5pQ-KfDzBo",
    "outputId": "b9b8baae-feed-4dc9-c3de-745c322c1158"
   },
   "outputs": [
    {
     "name": "stdout",
     "output_type": "stream",
     "text": [
      "counts in each bin\n",
      "(-0.595, 60.004]      16\n",
      "(60.004, 120.004]      1\n",
      "(180.003, 240.003]     1\n",
      "(480.001, 540.0]       1\n",
      "(540.0, 600.0]         1\n",
      "(120.004, 180.003]     0\n",
      "(240.003, 300.002]     0\n",
      "(300.002, 360.002]     0\n",
      "(360.002, 420.001]     0\n",
      "(420.001, 480.001]     0\n",
      "Name: bodywt, dtype: int64\n"
     ]
    }
   ],
   "source": [
    "#5. Use the \"good\" dataframe, cut \"bodywt\" into 10 bins and return the counts in each bin.\n",
    "\n",
    "bins = 10\n",
    "cut_bins = pd.cut(good_df['bodywt'], bins=bins)\n",
    "print(\"counts in each bin\")\n",
    "print(cut_bins.value_counts())\n"
   ]
  },
  {
   "cell_type": "code",
   "execution_count": 7,
   "metadata": {
    "colab": {
     "base_uri": "https://localhost:8080/"
    },
    "id": "pnXYvBADMeEY",
    "outputId": "6b3d55fb-9c3b-4c0c-afd4-89c9791d80c1"
   },
   "outputs": [
    {
     "name": "stdout",
     "output_type": "stream",
     "text": [
      "                              name         genus     vore            order  \\\n",
      "3       Greater short-tailed shrew       Blarina     omni     Soricomorpha   \n",
      "4                              Cow           Bos    herbi     Artiodactyla   \n",
      "8                              Dog         Canis    carni        Carnivora   \n",
      "11                      Guinea pig         Cavis    herbi         Rodentia   \n",
      "13                      Chinchilla    Chinchilla    herbi         Rodentia   \n",
      "16       Lesser short-tailed shrew     Cryptotis     omni     Soricomorpha   \n",
      "17            Long-nosed armadillo       Dasypus    carni        Cingulata   \n",
      "19          North American Opossum     Didelphis     omni  Didelphimorphia   \n",
      "21                   Big brown bat     Eptesicus  insecti       Chiroptera   \n",
      "22                           Horse         Equus    herbi   Perissodactyla   \n",
      "24               European hedgehog     Erinaceus     omni   Erinaceomorpha   \n",
      "27                    Domestic cat         Felis    carni        Carnivora   \n",
      "39                  Golden hamster  Mesocricetus    herbi         Rodentia   \n",
      "41                     House mouse           Mus    herbi         Rodentia   \n",
      "47                          Rabbit   Oryctolagus    herbi       Lagomorpha   \n",
      "63                  Laboratory rat        Rattus    herbi         Rodentia   \n",
      "66           Eastern american mole      Scalopus  insecti     Soricomorpha   \n",
      "70  Thirteen-lined ground squirrel  Spermophilus    herbi         Rodentia   \n",
      "73                             Pig           Sus     omni     Artiodactyla   \n",
      "76                 Brazilian tapir       Tapirus    herbi   Perissodactyla   \n",
      "\n",
      "    conservation  sleep_total  sleep_rem  sleep_cycle  awake  brainwt   bodywt  \n",
      "3             lc         14.9        2.3     0.133333    9.1  0.00029    0.019  \n",
      "4   domesticated          4.0        0.7     0.666667   20.0  0.42300  100.000  \n",
      "8   domesticated         10.1        2.9     0.333333   13.9  0.07000   14.000  \n",
      "11  domesticated          9.4        0.8     0.216667   14.6  0.00550    0.728  \n",
      "13  domesticated         12.5        1.5     0.116667   11.5  0.00640    0.420  \n",
      "16            lc          9.1        1.4     0.150000   14.9  0.00014    0.005  \n",
      "17            lc         17.4        3.1     0.383333    6.6  0.01080    3.500  \n",
      "19            lc         18.0        4.9     0.333333    6.0  0.00630    1.700  \n",
      "21            lc         19.7        3.9     0.116667    4.3  0.00030    0.023  \n",
      "22  domesticated          2.9        0.6     1.000000   21.1  0.65500  100.000  \n",
      "24            lc         10.1        3.5     0.283333   13.9  0.00350    0.770  \n",
      "27  domesticated         12.5        3.2     0.416667   11.5  0.02560    3.300  \n",
      "39            en         14.3        3.1     0.200000    9.7  0.00100    0.120  \n",
      "41            nt         12.5        1.4     0.183333   11.5  0.00040    0.022  \n",
      "47  domesticated          8.4        0.9     0.416667   15.6  0.01210    2.500  \n",
      "63            lc         13.0        2.4     0.183333   11.0  0.00190    0.320  \n",
      "66            lc          8.4        2.1     0.166667   15.6  0.00120    0.075  \n",
      "70            lc         13.8        3.4     0.216667   10.2  0.00400    0.101  \n",
      "73  domesticated          9.1        2.4     0.500000   14.9  0.18000   86.250  \n",
      "76            vu          4.4        1.0     0.900000   19.6  0.16900  100.000  \n"
     ]
    },
    {
     "name": "stderr",
     "output_type": "stream",
     "text": [
      "<ipython-input-7-1085d01e861b>:3: SettingWithCopyWarning: \n",
      "A value is trying to be set on a copy of a slice from a DataFrame.\n",
      "Try using .loc[row_indexer,col_indexer] = value instead\n",
      "\n",
      "See the caveats in the documentation: https://pandas.pydata.org/pandas-docs/stable/user_guide/indexing.html#returning-a-view-versus-a-copy\n",
      "  good_df.loc[:, 'bodywt'] = good_df['bodywt'].apply(lambda x: min(x, 100))\n"
     ]
    }
   ],
   "source": [
    "#6 Use the \"good\" dataframe, cap the bodywt to 100 max.\n",
    "\n",
    "good_df.loc[:, 'bodywt'] = good_df['bodywt'].apply(lambda x: min(x, 100))\n",
    "\n",
    "print(good_df)\n"
   ]
  },
  {
   "cell_type": "code",
   "execution_count": 8,
   "metadata": {
    "colab": {
     "base_uri": "https://localhost:8080/"
    },
    "id": "z78cuY7JCD4u",
    "outputId": "4c6f03a6-5d9f-45c0-8bf9-f3889ef9ae40",
    "scrolled": true
   },
   "outputs": [
    {
     "name": "stdout",
     "output_type": "stream",
     "text": [
      "Counts in each bin:\n",
      "(-0.09, 10.009]     10\n",
      "(50.005, 60.004]     3\n",
      "(20.008, 30.007]     2\n",
      "(30.007, 40.006]     1\n",
      "(60.004, 70.003]     1\n",
      "(80.002, 90.001]     1\n",
      "(90.001, 100.0]      1\n",
      "(10.009, 20.008]     0\n",
      "(40.006, 50.005]     0\n",
      "(70.003, 80.002]     0\n",
      "Name: bodywt, dtype: int64\n"
     ]
    },
    {
     "name": "stderr",
     "output_type": "stream",
     "text": [
      "<ipython-input-8-d5f8bf48e3bb>:4: SettingWithCopyWarning: \n",
      "A value is trying to be set on a copy of a slice from a DataFrame.\n",
      "Try using .loc[row_indexer,col_indexer] = value instead\n",
      "\n",
      "See the caveats in the documentation: https://pandas.pydata.org/pandas-docs/stable/user_guide/indexing.html#returning-a-view-versus-a-copy\n",
      "  bad_df.loc[:, 'bodywt'] = bad_df['bodywt'].apply(lambda x: min(x, 100))\n"
     ]
    }
   ],
   "source": [
    "#7. Use the filled \"bad\" dataframe, cut \"bodywt\" into 10 bins and return the counts in each bin.\n",
    "\n",
    "bins = 10\n",
    "bad_df.loc[:, 'bodywt'] = bad_df['bodywt'].apply(lambda x: min(x, 100))\n",
    "cut_bins = pd.cut(bad_df['bodywt'], bins=bins)\n",
    "bin_counts = cut_bins.value_counts()\n",
    "\n",
    "print(\"Counts in each bin:\")\n",
    "print(bin_counts)\n"
   ]
  },
  {
   "cell_type": "code",
   "execution_count": 1,
   "metadata": {},
   "outputs": [
    {
     "name": "stdout",
     "output_type": "stream",
     "text": [
      "Good DataFrame:\n",
      "                          name       genus   vore  conservation  sleep_total  \\\n",
      "3   Greater short-tailed shrew     Blarina   omni            lc         14.9   \n",
      "4                          Cow         Bos  herbi  domesticated          4.0   \n",
      "8                          Dog       Canis  carni  domesticated         10.1   \n",
      "11                  Guinea pig       Cavis  herbi  domesticated          9.4   \n",
      "13                  Chinchilla  Chinchilla  herbi  domesticated         12.5   \n",
      "\n",
      "    sleep_rem  sleep_cycle  awake  brainwt   bodywt  order_Artiodactyla  \\\n",
      "3         2.3     0.133333    9.1  0.00029    0.019                   0   \n",
      "4         0.7     0.666667   20.0  0.42300  100.000                   1   \n",
      "8         2.9     0.333333   13.9  0.07000   14.000                   0   \n",
      "11        0.8     0.216667   14.6  0.00550    0.728                   0   \n",
      "13        1.5     0.116667   11.5  0.00640    0.420                   0   \n",
      "\n",
      "    order_Carnivora  order_Chiroptera  order_Cingulata  order_Didelphimorphia  \\\n",
      "3                 0                 0                0                      0   \n",
      "4                 0                 0                0                      0   \n",
      "8                 1                 0                0                      0   \n",
      "11                0                 0                0                      0   \n",
      "13                0                 0                0                      0   \n",
      "\n",
      "    order_Erinaceomorpha  order_Lagomorpha  order_Perissodactyla  \\\n",
      "3                      0                 0                     0   \n",
      "4                      0                 0                     0   \n",
      "8                      0                 0                     0   \n",
      "11                     0                 0                     0   \n",
      "13                     0                 0                     0   \n",
      "\n",
      "    order_Rodentia  order_Soricomorpha  \n",
      "3                0                   1  \n",
      "4                0                   0  \n",
      "8                0                   0  \n",
      "11               1                   0  \n",
      "13               1                   0  \n",
      "\n",
      "Bad DataFrame:\n",
      "                 name        genus   vore           order  conservation  \\\n",
      "6   Northern fur seal  Callorhinus  carni       Carnivora            vu   \n",
      "10               Goat        Capri  herbi    Artiodactyla            lc   \n",
      "14    Star-nosed mole    Condylura   omni    Soricomorpha            lc   \n",
      "18         Tree hyrax  Dendrohyrax  herbi      Hyracoidea            lc   \n",
      "23             Donkey        Equus  herbi  Perissodactyla  domesticated   \n",
      "\n",
      "    sleep_total  sleep_rem  sleep_cycle  awake   brainwt  bodywt  \n",
      "6           8.7        1.4     0.383333   15.3  0.190772   20.49  \n",
      "10          5.3        0.6     0.620000   18.7  0.115000   33.50  \n",
      "14         10.3        2.2     0.620000   13.7  0.001000    0.06  \n",
      "18          5.3        0.5     0.620000   18.7  0.012300    2.95  \n",
      "23          3.1        0.4     0.620000   20.9  0.419000  187.00  \n",
      "\n",
      "Counts of 'bodywt' in Good DataFrame:\n",
      "(-0.595, 60.004]      16\n",
      "(60.004, 120.004]      1\n",
      "(120.004, 180.003]     0\n",
      "(180.003, 240.003]     1\n",
      "(240.003, 300.002]     0\n",
      "(300.002, 360.002]     0\n",
      "(360.002, 420.001]     0\n",
      "(420.001, 480.001]     0\n",
      "(480.001, 540.0]       1\n",
      "(540.0, 600.0]         1\n",
      "Name: bodywt, dtype: int64\n",
      "\n",
      "Counts of 'bodywt' in Filled Bad DataFrame:\n",
      "(-0.177, 18.709]      10\n",
      "(18.709, 37.408]       3\n",
      "(37.408, 56.107]       2\n",
      "(56.107, 74.806]       2\n",
      "(74.806, 93.505]       1\n",
      "(93.505, 112.204]      0\n",
      "(112.204, 130.903]     0\n",
      "(130.903, 149.602]     0\n",
      "(149.602, 168.301]     0\n",
      "(168.301, 187.0]       1\n",
      "Name: bodywt, dtype: int64\n"
     ]
    }
   ],
   "source": [
    "import pandas as pd\n",
    "\n",
    "# Load \"msleep.csv\" data into a DataFrame\n",
    "file_path = '/downloads/msleep.csv'\n",
    "df = pd.read_csv(\"msleep.csv\")\n",
    "\n",
    "# Split the DataFrame into three DataFrames - good, bad, and ugly\n",
    "good = df.dropna()\n",
    "bad = df[df.isna().sum(axis=1) == 1]\n",
    "ugly = df[df.isna().sum(axis=1) > 1]\n",
    "\n",
    "# Use the \"bad\" DataFrame, fill NaN with the average value (numeric) or the most frequent value (categorical) in the column\n",
    "numeric_cols = bad.select_dtypes(include=['number']).columns\n",
    "categorical_cols = bad.select_dtypes(include=['object']).columns\n",
    "\n",
    "bad = bad.copy()  # Create a copy to avoid SettingWithCopyWarning\n",
    "\n",
    "for col in numeric_cols:\n",
    "    bad[col] = bad[col].fillna(bad[col].mean())\n",
    "\n",
    "for col in categorical_cols:\n",
    "    mode_val = bad[col].mode()[0]\n",
    "    bad[col] = bad[col].fillna(mode_val)\n",
    "\n",
    "# Use the \"good\" DataFrame, convert column \"order\" into dummies with prefix \"order_\"\n",
    "good = pd.get_dummies(good, columns=['order'], prefix='order')\n",
    "\n",
    "# Use the \"good\" DataFrame, cut \"bodywt\" into 10 bins and return the counts in each bin\n",
    "bins = pd.cut(good['bodywt'], bins=10)\n",
    "bin_counts = bins.value_counts().sort_index()\n",
    "\n",
    "# Cap the \"bodywt\" to a maximum of 100 in the \"good\" DataFrame\n",
    "good['bodywt'] = good['bodywt'].apply(lambda x: min(x, 100))\n",
    "\n",
    "# Use the filled \"bad\" DataFrame, cut \"bodywt\" into 10 bins and return the counts in each bin\n",
    "bins_bad = pd.cut(bad['bodywt'], bins=10)\n",
    "bin_counts_bad = bins_bad.value_counts().sort_index()\n",
    "\n",
    "print(\"Good DataFrame:\")\n",
    "print(good.head())\n",
    "\n",
    "print(\"\\nBad DataFrame:\")\n",
    "print(bad.head())\n",
    "\n",
    "print(\"\\nCounts of 'bodywt' in Good DataFrame:\")\n",
    "print(bin_counts)\n",
    "\n",
    "print(\"\\nCounts of 'bodywt' in Filled Bad DataFrame:\")\n",
    "print(bin_counts_bad)\n"
   ]
  },
  {
   "cell_type": "code",
   "execution_count": null,
   "metadata": {},
   "outputs": [],
   "source": []
  }
 ],
 "metadata": {
  "colab": {
   "provenance": []
  },
  "kernelspec": {
   "display_name": "Python 3 (ipykernel)",
   "language": "python",
   "name": "python3"
  },
  "language_info": {
   "codemirror_mode": {
    "name": "ipython",
    "version": 3
   },
   "file_extension": ".py",
   "mimetype": "text/x-python",
   "name": "python",
   "nbconvert_exporter": "python",
   "pygments_lexer": "ipython3",
   "version": "3.11.4"
  }
 },
 "nbformat": 4,
 "nbformat_minor": 1
}
