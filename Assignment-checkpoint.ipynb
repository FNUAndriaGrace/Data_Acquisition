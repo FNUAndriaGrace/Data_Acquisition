{
 "cells": [
  {
   "cell_type": "markdown",
   "id": "8029aa97",
   "metadata": {},
   "source": [
    "# Lab Exercise"
   ]
  },
  {
   "cell_type": "markdown",
   "id": "34dce325",
   "metadata": {},
   "source": [
    "# Write a python function to compute the sum of 1, 2, 3, ... to x by a given integer x. (Recursion Method)"
   ]
  },
  {
   "cell_type": "code",
   "execution_count": 37,
   "id": "eedf9334",
   "metadata": {},
   "outputs": [
    {
     "name": "stdout",
     "output_type": "stream",
     "text": [
      "28\n"
     ]
    }
   ],
   "source": [
    "def rec_sum(x):\n",
    "    \n",
    "    if x == 1:\n",
    "        return 1\n",
    "\n",
    "    else:\n",
    "\n",
    "        return x+rec_sum(x-1)\n",
    "\n",
    "print(rec_sum(7))"
   ]
  },
  {
   "cell_type": "markdown",
   "id": "2d4d6f06",
   "metadata": {},
   "source": [
    "# Write a python function to compute the sum of 1, 2, 3, ... to x by a given integer x. (Tail-Recursion Method)"
   ]
  },
  {
   "cell_type": "code",
   "execution_count": 38,
   "id": "7ebaf85c",
   "metadata": {},
   "outputs": [
    {
     "name": "stdout",
     "output_type": "stream",
     "text": [
      "15\n"
     ]
    }
   ],
   "source": [
    "def tail_sum(x, y=0):\n",
    "    \n",
    "    if x == 0:\n",
    "        return y\n",
    "    \n",
    "    else:\n",
    "\n",
    "        return tail_sum(x - 1, y + x)\n",
    "\n",
    "print(tail_sum(5))"
   ]
  },
  {
   "cell_type": "markdown",
   "id": "5d0b5dc8",
   "metadata": {},
   "source": [
    "# The Fibonacci sequence 1, 1, 2, 3, 5, 8, 13, 21…… starts with two 1s, and each term afterwards is the sum of its two predecessors. Please write a function, Fib(n), which takes n as the input parameter. It will return the n-th number in the Fibonacci sequence."
   ]
  },
  {
   "cell_type": "code",
   "execution_count": 39,
   "id": "0a5e7e74",
   "metadata": {},
   "outputs": [
    {
     "name": "stdout",
     "output_type": "stream",
     "text": [
      "10946\n"
     ]
    }
   ],
   "source": [
    "def Fib(n):\n",
    "\n",
    "    if n<0:\n",
    "        print(\"\\n Wrong input.\\n Input must be a positive number\")\n",
    "    \n",
    "    elif n == 0: \n",
    "        return 0\n",
    "    \n",
    "    elif n == 1:\n",
    "        return 1\n",
    "   \n",
    "    elif n == 2:\n",
    "        return 1\n",
    "\n",
    "    else:\n",
    "        return Fib(n-1)+Fib(n-2)\n",
    " \n",
    " \n",
    "print(Fib(21))"
   ]
  },
  {
   "cell_type": "markdown",
   "id": "8e2a01ac",
   "metadata": {},
   "source": [
    "# Homework"
   ]
  },
  {
   "cell_type": "markdown",
   "id": "cd955952",
   "metadata": {},
   "source": [
    "# Write a function squareRoot(x) to compute the square root of the positive number by newton-raphson method."
   ]
  },
  {
   "cell_type": "code",
   "execution_count": 40,
   "id": "33240faa",
   "metadata": {},
   "outputs": [
    {
     "name": "stdout",
     "output_type": "stream",
     "text": [
      "5.0\n"
     ]
    }
   ],
   "source": [
    "def sqroot(n, l) :\n",
    " \n",
    "    x = n\n",
    "    if x < 0:\n",
    "        print(\"Input must be a positive number\")\n",
    " \n",
    "   \n",
    "    count = 0\n",
    " \n",
    "    while (1):\n",
    "        count += 1\n",
    " \n",
    "        root = 0.5 * (x + (n / x))\n",
    " \n",
    "        if (abs(root - x) < l) :\n",
    "        # l = 1e-20 = 0.00001\n",
    "            break\n",
    "      \n",
    "        x = root\n",
    " \n",
    "    return root\n",
    " \n",
    "\n",
    "if __name__ == \"__main__\" :\n",
    " \n",
    "    n = 25\n",
    "    l = 0.00001\n",
    " \n",
    "    print(sqroot(n, l))"
   ]
  },
  {
   "cell_type": "markdown",
   "id": "2f813d25",
   "metadata": {},
   "source": [
    "#  Write a function myPi(n) to compute pi by Gregory series.\n"
   ]
  },
  {
   "cell_type": "code",
   "execution_count": 41,
   "id": "a6cfd8d9",
   "metadata": {},
   "outputs": [
    {
     "name": "stdout",
     "output_type": "stream",
     "text": [
      "Approximation of π with 10000 terms: 3.1414926536\n"
     ]
    }
   ],
   "source": [
    "def myPi(n):\n",
    "    if n < 1:\n",
    "        print(\"Input n must be a positive integer\")\n",
    "    \n",
    "    pi_approx = 0.0\n",
    "    \n",
    "    for k in range(n):\n",
    "        term = (-1) ** k / (2 * k + 1)\n",
    "        pi_approx += term\n",
    "    \n",
    "    pi_approx *= 4\n",
    "    \n",
    "    return pi_approx\n",
    "\n",
    "n = 10000 \n",
    "result = myPi(n)\n",
    "print(f\"Approximation of π with {n} terms: {result:.10f}\")"
   ]
  },
  {
   "cell_type": "markdown",
   "id": "7dce6978",
   "metadata": {},
   "source": [
    "# Filtering Prime Numbers: write Python code to return a list of prime numbers within range from 0 to 1000"
   ]
  },
  {
   "cell_type": "markdown",
   "id": "edd3910a",
   "metadata": {},
   "source": [
    "# Sieve of Eratosthenes method"
   ]
  },
  {
   "cell_type": "code",
   "execution_count": 42,
   "id": "724baba1",
   "metadata": {},
   "outputs": [
    {
     "name": "stdout",
     "output_type": "stream",
     "text": [
      "[2, 3, 5, 7, 11, 13, 17, 19, 23, 29, 31, 37, 41, 43, 47, 53, 59, 61, 67, 71, 73, 79, 83, 89, 97, 101, 103, 107, 109, 113, 127, 131, 137, 139, 149, 151, 157, 163, 167, 173, 179, 181, 191, 193, 197, 199, 211, 223, 227, 229, 233, 239, 241, 251, 257, 263, 269, 271, 277, 281, 283, 293, 307, 311, 313, 317, 331, 337, 347, 349, 353, 359, 367, 373, 379, 383, 389, 397, 401, 409, 419, 421, 431, 433, 439, 443, 449, 457, 461, 463, 467, 479, 487, 491, 499, 503, 509, 521, 523, 541, 547, 557, 563, 569, 571, 577, 587, 593, 599, 601, 607, 613, 617, 619, 631, 641, 643, 647, 653, 659, 661, 673, 677, 683, 691, 701, 709, 719, 727, 733, 739, 743, 751, 757, 761, 769, 773, 787, 797, 809, 811, 821, 823, 827, 829, 839, 853, 857, 859, 863, 877, 881, 883, 887, 907, 911, 919, 929, 937, 941, 947, 953, 967, 971, 977, 983, 991, 997]\n"
     ]
    }
   ],
   "source": [
    "def sieve_prime(n):\n",
    "  \n",
    "    prime = [math] * (n + 1)\n",
    "    p = 2\n",
    "    while p**2 <= n:\n",
    "        if prime[p] == math:\n",
    "           \n",
    "            for i in range(p**2, n + 1, p):\n",
    "                prime[i] = False\n",
    "        p += 1\n",
    "\n",
    " \n",
    "    prime = [p for p in range(2, n + 1) if prime[p]]\n",
    "    return prime\n",
    "\n",
    "\n",
    "primes_range = sieve_prime(1000)\n",
    "\n",
    "\n",
    "print(primes_range)"
   ]
  },
  {
   "cell_type": "markdown",
   "id": "cef113ab",
   "metadata": {},
   "source": [
    "# Basic Method to Print Prime numbers"
   ]
  },
  {
   "cell_type": "code",
   "execution_count": 43,
   "id": "770c8fcd",
   "metadata": {},
   "outputs": [
    {
     "name": "stdout",
     "output_type": "stream",
     "text": [
      "\n",
      " The prime numbers in this range are:\n",
      " [2, 3, 5, 7, 11, 13, 17, 19, 23, 29, 31, 37, 41, 43, 47, 53, 59, 61, 67, 71, 73, 79, 83, 89, 97, 101, 103, 107, 109, 113, 127, 131, 137, 139, 149, 151, 157, 163, 167, 173, 179, 181, 191, 193, 197, 199, 211, 223, 227, 229, 233, 239, 241, 251, 257, 263, 269, 271, 277, 281, 283, 293, 307, 311, 313, 317, 331, 337, 347, 349, 353, 359, 367, 373, 379, 383, 389, 397, 401, 409, 419, 421, 431, 433, 439, 443, 449, 457, 461, 463, 467, 479, 487, 491, 499, 503, 509, 521, 523, 541, 547, 557, 563, 569, 571, 577, 587, 593, 599, 601, 607, 613, 617, 619, 631, 641, 643, 647, 653, 659, 661, 673, 677, 683, 691, 701, 709, 719, 727, 733, 739, 743, 751, 757, 761, 769, 773, 787, 797, 809, 811, 821, 823, 827, 829, 839, 853, 857, 859, 863, 877, 881, 883, 887, 907, 911, 919, 929, 937, 941, 947, 953, 967, 971, 977, 983, 991, 997]\n"
     ]
    }
   ],
   "source": [
    "def prime(x, y):\n",
    "    prime_list = []\n",
    "    for i in range(x, y):\n",
    "        if i == 0 or i == 1:\n",
    "            continue\n",
    "        else:\n",
    "            for j in range(2, int(i/2)+1):\n",
    "                if i % j == 0:\n",
    "                    break\n",
    "            else:\n",
    "                prime_list.append(i)\n",
    "    return prime_list\n",
    " \n",
    "x = 0\n",
    "y = 1000\n",
    "lst = prime(x, y)\n",
    "if len(lst) == 0:\n",
    "    print(\"No prime numbers in this range\")\n",
    "else:\n",
    "    print(\"\\n The prime numbers in this range are:\\n\", lst)"
   ]
  }
 ],
 "metadata": {
  "kernelspec": {
   "display_name": "Python 3 (ipykernel)",
   "language": "python",
   "name": "python3"
  },
  "language_info": {
   "codemirror_mode": {
    "name": "ipython",
    "version": 3
   },
   "file_extension": ".py",
   "mimetype": "text/x-python",
   "name": "python",
   "nbconvert_exporter": "python",
   "pygments_lexer": "ipython3",
   "version": "3.11.4"
  }
 },
 "nbformat": 4,
 "nbformat_minor": 5
}
