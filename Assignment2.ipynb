{
 "cells": [
  {
   "cell_type": "markdown",
   "id": "5e87a73f",
   "metadata": {},
   "source": [
    "Write a numpy version of function myPi(n) to compute pi by Gregory series. Compare the run time with your version of last week."
   ]
  },
  {
   "cell_type": "markdown",
   "id": "a16c8906",
   "metadata": {},
   "source": [
    "Test Case 1"
   ]
  },
  {
   "cell_type": "code",
   "execution_count": 29,
   "id": "3f7fad9e",
   "metadata": {},
   "outputs": [
    {
     "name": "stdout",
     "output_type": "stream",
     "text": [
      "3.1414926535900345\n"
     ]
    }
   ],
   "source": [
    "import numpy as np\n",
    "myPi = lambda n: 4 * sum((-1) ** k / (2 * k + 1) for k in range(n))\n",
    "print(myPi(10000)) "
   ]
  },
  {
   "cell_type": "markdown",
   "id": "fd7daa0a",
   "metadata": {},
   "source": [
    "Test Case 2"
   ]
  },
  {
   "cell_type": "code",
   "execution_count": 30,
   "id": "076514fe",
   "metadata": {},
   "outputs": [
    {
     "name": "stdout",
     "output_type": "stream",
     "text": [
      "4.0\n"
     ]
    }
   ],
   "source": [
    "import numpy as np\n",
    "myPi = lambda n: 4 * sum((-1) ** k / (2 * k + 1) for k in range(n))\n",
    "print(myPi(1)) "
   ]
  },
  {
   "cell_type": "markdown",
   "id": "9f0cfb15",
   "metadata": {},
   "source": [
    "Test Case 3"
   ]
  },
  {
   "cell_type": "code",
   "execution_count": 31,
   "id": "a7e4eb78",
   "metadata": {},
   "outputs": [
    {
     "name": "stdout",
     "output_type": "stream",
     "text": [
      "0\n"
     ]
    }
   ],
   "source": [
    "import numpy as np\n",
    "myPi = lambda n: 4 * sum((-1) ** k / (2 * k + 1) for k in range(n))\n",
    "print(myPi(0)) "
   ]
  },
  {
   "cell_type": "markdown",
   "id": "4c6dc92e",
   "metadata": {},
   "source": [
    " Write a one line function manhattan(p, q) to compute the manhattan distance of two points p, q in n-dimensional space, where p and q are lists with equal length."
   ]
  },
  {
   "cell_type": "markdown",
   "id": "fca0c354",
   "metadata": {},
   "source": [
    "Test Case 1"
   ]
  },
  {
   "cell_type": "code",
   "execution_count": 32,
   "id": "9cfcd1f6",
   "metadata": {},
   "outputs": [
    {
     "data": {
      "text/plain": [
       "4"
      ]
     },
     "execution_count": 32,
     "metadata": {},
     "output_type": "execute_result"
    }
   ],
   "source": [
    "def manhattan(p, q):\n",
    "    return sum(abs(pi - qi) for pi, qi in zip(p, q))\n",
    "p = [0, 6]\n",
    "q = [1, 3]\n",
    "manhattan(p, q)"
   ]
  },
  {
   "cell_type": "markdown",
   "id": "0a735e67",
   "metadata": {},
   "source": [
    "Test Case 2"
   ]
  },
  {
   "cell_type": "code",
   "execution_count": 33,
   "id": "ca9632fa",
   "metadata": {},
   "outputs": [
    {
     "data": {
      "text/plain": [
       "9"
      ]
     },
     "execution_count": 33,
     "metadata": {},
     "output_type": "execute_result"
    }
   ],
   "source": [
    "def manhattan(p, q):\n",
    "    return sum(abs(pi - qi) for pi, qi in zip(p, q))\n",
    "p = [1, 2, 3]\n",
    "q = [5, 4, 6]\n",
    "manhattan(p, q)"
   ]
  },
  {
   "cell_type": "markdown",
   "id": "43209b33",
   "metadata": {},
   "source": [
    "Write a one line numpy version of function correlation(x, y) to compute the correlation of two lists x, and y."
   ]
  },
  {
   "cell_type": "markdown",
   "id": "e84e2da1",
   "metadata": {},
   "source": [
    "Test Case 1"
   ]
  },
  {
   "cell_type": "code",
   "execution_count": 34,
   "id": "371eea64",
   "metadata": {},
   "outputs": [
    {
     "data": {
      "text/plain": [
       "1.0"
      ]
     },
     "execution_count": 34,
     "metadata": {},
     "output_type": "execute_result"
    }
   ],
   "source": [
    "def correlation(x, y):\n",
    "    return np.corrcoef(x, y)[0, 1]\n",
    "x = np.array([1, 2, 3])\n",
    "y = np.array([4, 5, 6])\n",
    "correlation(x, y)"
   ]
  },
  {
   "cell_type": "markdown",
   "id": "2f2c71fb",
   "metadata": {},
   "source": [
    "Test Case 2"
   ]
  },
  {
   "cell_type": "code",
   "execution_count": 35,
   "id": "99122269",
   "metadata": {},
   "outputs": [
    {
     "data": {
      "text/plain": [
       "0.9863939238321436"
      ]
     },
     "execution_count": 35,
     "metadata": {},
     "output_type": "execute_result"
    }
   ],
   "source": [
    "def correlation(x, y):\n",
    "    return np.corrcoef(x, y)[0, 1]\n",
    "x = np.array([1, 2, 3, 4, 5])\n",
    "y = np.array([4, 5, 6, 7, 9])\n",
    "correlation(x, y)"
   ]
  },
  {
   "cell_type": "markdown",
   "id": "274594c0",
   "metadata": {},
   "source": [
    " Write a one line code to return the first n fibonacci numbers using functional programming techniques."
   ]
  },
  {
   "cell_type": "markdown",
   "id": "5cd951e7",
   "metadata": {},
   "source": [
    "Test Case 1"
   ]
  },
  {
   "cell_type": "code",
   "execution_count": 36,
   "id": "817025f1",
   "metadata": {},
   "outputs": [
    {
     "name": "stdout",
     "output_type": "stream",
     "text": [
      "[0, 1, 1, 2, 3, 5, 8, 13, 21, 34]\n"
     ]
    }
   ],
   "source": [
    "from functools import reduce\n",
    "\n",
    "n = 10  # Replace with your desired value of n\n",
    "fibonacci = lambda n: reduce(lambda x, _: x + [x[-1] + x[-2]], range(n - 2), [0, 1][:n])\n",
    "\n",
    "print(fibonacci(n))"
   ]
  },
  {
   "cell_type": "markdown",
   "id": "ff440c47",
   "metadata": {},
   "source": [
    "Test Case 2"
   ]
  },
  {
   "cell_type": "code",
   "execution_count": 37,
   "id": "ffe97040",
   "metadata": {},
   "outputs": [
    {
     "name": "stdout",
     "output_type": "stream",
     "text": [
      "[0, 1, 1, 2, 3, 5, 8, 13, 21, 34, 55, 89, 144, 233, 377, 610, 987, 1597, 2584, 4181]\n"
     ]
    }
   ],
   "source": [
    "from functools import reduce\n",
    "\n",
    "n = 20  # Replace with your desired value of n\n",
    "fibonacci = lambda n: reduce(lambda x, _: x + [x[-1] + x[-2]], range(n - 2), [0, 1][:n])\n",
    "\n",
    "print(fibonacci(n))"
   ]
  }
 ],
 "metadata": {
  "kernelspec": {
   "display_name": "Python 3 (ipykernel)",
   "language": "python",
   "name": "python3"
  },
  "language_info": {
   "codemirror_mode": {
    "name": "ipython",
    "version": 3
   },
   "file_extension": ".py",
   "mimetype": "text/x-python",
   "name": "python",
   "nbconvert_exporter": "python",
   "pygments_lexer": "ipython3",
   "version": "3.11.4"
  }
 },
 "nbformat": 4,
 "nbformat_minor": 5
}
